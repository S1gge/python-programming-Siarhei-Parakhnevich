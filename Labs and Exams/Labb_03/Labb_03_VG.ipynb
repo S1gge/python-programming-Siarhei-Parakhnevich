{
 "cells": [
  {
   "cell_type": "code",
   "execution_count": 157,
   "metadata": {},
   "outputs": [],
   "source": [
    "import matplotlib.pyplot as plt\n",
    "\n",
    "def convert_to_float (input_list):          # function for convert to float.\n",
    "    output_list_float = []\n",
    "    for element in input_list:\n",
    "        sublist = []\n",
    "        for string in element:\n",
    "            converted_float = float(string)\n",
    "            sublist.append(converted_float)\n",
    "        output_list_float.append(sublist)\n",
    "    return output_list_float\n",
    "\n",
    "def points_classification(k,m, points):         # function for point classification.\n",
    "    points_class = []\n",
    "    for l in points:\n",
    "        l=l.copy()\n",
    "        if l[1] > k*l[0]+m:\n",
    "            l.append(1)\n",
    "        else:\n",
    "            l.append(0)\n",
    "        points_class.append(l)\n",
    "    return points_class\n",
    "\n",
    "with open (\"unlabelled_data.csv\",\"r\") as f_read:           # Cleans data in unlabeled_data file.\n",
    "\n",
    "    data_list_step_01 = [data.strip(\"\\n\").replace(\",\",\" \") for data in f_read.readlines()]\n",
    "    data_list_step_02 = [data.split() for data in data_list_step_01]\n",
    "\n",
    "data_list_float = convert_to_float(data_list_step_02)           # function for convert to float calls.  \n",
    "\n",
    "x_list = [data[0] for data in data_list_float]          # Creates lists for x and y. \n",
    "y_list = [data[1] for data in data_list_float]\n"
   ]
  },
  {
   "cell_type": "code",
   "execution_count": 158,
   "metadata": {},
   "outputs": [],
   "source": [
    "# function f(x) = -0.489x\n",
    "x = list(range(-4,5))\n",
    "k_f = -0.489\n",
    "m_f = 0\n",
    "y_f = [k_f*x+m_f for x in x]\n",
    "\n",
    "points_class_f = points_classification(k_f,m_f, data_list_float)\n",
    "\n",
    "points_class_0_f, points_class_1_f = [], []                             # classification lists creates.\n",
    "for element in points_class_f:\n",
    "    if element[2] == 0:\n",
    "        points_class_0_f.append(element)\n",
    "    else:\n",
    "        points_class_1_f.append(element)\n",
    "\n",
    "x_point_class_0_f = [element[0] for element in points_class_0_f]\n",
    "y_point_class_0_f = [element[1] for element in points_class_0_f]\n",
    "x_point_class_1_f = [element[0] for element in points_class_1_f]\n",
    "y_point_class_1_f = [element[1] for element in points_class_1_f]"
   ]
  },
  {
   "cell_type": "code",
   "execution_count": 159,
   "metadata": {},
   "outputs": [],
   "source": [
    "# function g(x) = −2x + 0.16\n",
    "x = list(range(-4,5))\n",
    "k_g = -2\n",
    "m_g = 0.16\n",
    "y_g = [k_g*x+m_g for x in x]\n",
    "\n",
    "points_class_g = points_classification(k_g,m_g, data_list_float)\n",
    "\n",
    "points_class_0_g, points_class_1_g = [], []                             # classification lists creates.\n",
    "for element in points_class_g:\n",
    "    if element[2] == 0:\n",
    "        points_class_0_g.append(element)\n",
    "    else:\n",
    "        points_class_1_g.append(element)\n",
    "\n",
    "x_point_class_0_g = [element[0] for element in points_class_0_g]\n",
    "y_point_class_0_g = [element[1] for element in points_class_0_g]\n",
    "x_point_class_1_g = [element[0] for element in points_class_1_g]\n",
    "y_point_class_1_g = [element[1] for element in points_class_1_g]"
   ]
  },
  {
   "cell_type": "code",
   "execution_count": 160,
   "metadata": {},
   "outputs": [
    {
     "name": "stdout",
     "output_type": "stream",
     "text": [
      "299\n"
     ]
    }
   ],
   "source": [
    "# function h(x) = 800x − 120\n",
    "x = list(range(-4,5))\n",
    "k_h = 800\n",
    "m_h = 120\n",
    "y_h = [k_h*x+m_h for x in x]\n",
    "\n",
    "points_class_h = points_classification(k_h,m_h, data_list_float)\n",
    "\n",
    "points_class_0_h, points_class_1_h = [], []                             # classification lists creates.\n",
    "for element in points_class_h:\n",
    "    if element[2] == 0:\n",
    "        points_class_0_h.append(element)\n",
    "    else:\n",
    "        points_class_1_h.append(element)\n",
    "\n",
    "x_point_class_0_h = [element[0] for element in points_class_0_h]\n",
    "y_point_class_0_h = [element[1] for element in points_class_0_h]\n",
    "x_point_class_1_h = [element[0] for element in points_class_1_h]\n",
    "y_point_class_1_h = [element[1] for element in points_class_1_h]\n",
    "k=len(points_class_0_f)"
   ]
  },
  {
   "cell_type": "code",
   "execution_count": 161,
   "metadata": {},
   "outputs": [
    {
     "ename": "SyntaxError",
     "evalue": "unterminated string literal (detected at line 10) (3337634439.py, line 10)",
     "output_type": "error",
     "traceback": [
      "\u001b[1;36m  Cell \u001b[1;32mIn[161], line 10\u001b[1;36m\u001b[0m\n\u001b[1;33m    plt.legend([\"f(x)=-0.489x\", \"Label - 0 f\"({k})\", \"Label - 1\"], loc=4)\u001b[0m\n\u001b[1;37m                                                               ^\u001b[0m\n\u001b[1;31mSyntaxError\u001b[0m\u001b[1;31m:\u001b[0m unterminated string literal (detected at line 10)\n"
     ]
    }
   ],
   "source": [
    "# function f(x) = -0.489x\n",
    "plt.figure(figsize=(6,15), dpi=100)\n",
    "plt.subplot(3,1,1)\n",
    "plt.plot(x,y_f,\"r\")\n",
    "plt.scatter(x_point_class_0_f, y_point_class_0_f)\n",
    "plt.scatter(x_point_class_1_f, y_point_class_1_f)\n",
    "plt.title(\"Linear classification.\")\n",
    "plt.xlabel(\"x\")\n",
    "plt.ylabel(\"y\")\n",
    "plt.legend([\"f(x)=-0.489x\", \"Label - 0\", \"Label - 1\"], loc=4)\n",
    "\n",
    "# function g(x) = −2x + 0.16\n",
    "plt.figure(figsize=(6,15), dpi=100)\n",
    "plt.subplot(3,1,2)\n",
    "plt.plot(x,y_g,\"g\")\n",
    "plt.scatter(x_point_class_0_g, y_point_class_0_g)\n",
    "plt.scatter(x_point_class_1_g, y_point_class_1_g)\n",
    "plt.title(\"Linear classification.\")\n",
    "plt.xlabel(\"x\")\n",
    "plt.ylabel(\"y\")\n",
    "plt.legend([\"g(x)=-2x+0.16\", \"Label - 0\", \"Label - 1\"], loc=4)\n",
    "\n",
    "# function h(x) = 800x − 120\n",
    "plt.figure(figsize=(6,15), dpi=100)\n",
    "plt.subplot(3,1,2)\n",
    "plt.plot(x,y_h,\"c\")\n",
    "plt.scatter(x_point_class_0_h, y_point_class_0_h)\n",
    "plt.scatter(x_point_class_1_h, y_point_class_1_h)\n",
    "plt.title(\"Linear classification.\")\n",
    "plt.xlabel(\"x\")\n",
    "plt.ylabel(\"y\")\n",
    "plt.legend([\"h(x) = 800x-120\", \"Label - 0\", \"Label - 1\"], loc=4)\n",
    "\n",
    "plt.show()"
   ]
  }
 ],
 "metadata": {
  "kernelspec": {
   "display_name": ".venv",
   "language": "python",
   "name": "python3"
  },
  "language_info": {
   "codemirror_mode": {
    "name": "ipython",
    "version": 3
   },
   "file_extension": ".py",
   "mimetype": "text/x-python",
   "name": "python",
   "nbconvert_exporter": "python",
   "pygments_lexer": "ipython3",
   "version": "3.12.6"
  }
 },
 "nbformat": 4,
 "nbformat_minor": 2
}
