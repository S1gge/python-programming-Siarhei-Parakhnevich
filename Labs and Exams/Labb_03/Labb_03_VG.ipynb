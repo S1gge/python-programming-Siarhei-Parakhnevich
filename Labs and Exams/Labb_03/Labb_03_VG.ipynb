{
 "cells": [
  {
   "cell_type": "code",
   "execution_count": 2,
   "metadata": {},
   "outputs": [],
   "source": [
    "# Creates functions.\n",
    "def convert_to_float (input_list):          # function for convert to float.\n",
    "    output_list_float = []\n",
    "    for element in input_list:\n",
    "        sublist = []\n",
    "        for string in element:\n",
    "            converted_float = float(string)\n",
    "            sublist.append(converted_float)\n",
    "        output_list_float.append(sublist)\n",
    "    return output_list_float"
   ]
  },
  {
   "cell_type": "code",
   "execution_count": 3,
   "metadata": {},
   "outputs": [],
   "source": [
    "# function to point classification.\n",
    "\n",
    "def points_classification(k,m, points):\n",
    "    points_class = []\n",
    "    for i in points:\n",
    "        if i[1] > k*i[0]+m:\n",
    "            i.append(1)\n",
    "        else:\n",
    "            i.append(0)\n",
    "        points_class.append(i)\n",
    "    return points_class\n"
   ]
  },
  {
   "cell_type": "code",
   "execution_count": 4,
   "metadata": {},
   "outputs": [],
   "source": [
    "with open (\"unlabelled_data.csv\",\"r\") as f_read:\n",
    "\n",
    "    data_list_step_01 = [data.strip(\"\\n\").replace(\",\",\" \") for data in f_read.readlines()]\n",
    "    data_list_step_02 = [data.split() for data in data_list_step_01]"
   ]
  },
  {
   "cell_type": "code",
   "execution_count": 5,
   "metadata": {},
   "outputs": [],
   "source": [
    "x_list = [float(data[0]) for data in data_list_step_02]\n",
    "y_list = [float(data[1]) for data in data_list_step_02]"
   ]
  },
  {
   "cell_type": "code",
   "execution_count": 6,
   "metadata": {},
   "outputs": [],
   "source": [
    "x = list(range(-4,5))\n",
    "k = -1.5\n",
    "m = 0.2\n",
    "y = [k*x+m for x in x]"
   ]
  },
  {
   "cell_type": "code",
   "execution_count": 7,
   "metadata": {},
   "outputs": [],
   "source": [
    "# Om y värdet för en punkt är större än linjens värde för motsvarande x, betyder att punkt ligger om/ovanför linjen.\n",
    "data_list_float = convert_to_float(data_list_step_02)\n",
    "\n",
    "points_class = points_classification(k,m, data_list_float)"
   ]
  },
  {
   "cell_type": "code",
   "execution_count": 8,
   "metadata": {},
   "outputs": [],
   "source": [
    "points_class_0, points_class_1 = [], []         # main list sorts to separate different type of data.\n",
    "for element in points_class:\n",
    "    if element[2] == 0:\n",
    "        points_class_0.append(element)\n",
    "    else:\n",
    "        points_class_1.append(element)"
   ]
  },
  {
   "cell_type": "code",
   "execution_count": 9,
   "metadata": {},
   "outputs": [],
   "source": [
    "x_point_class_0 = [element[0] for element in points_class_0]\n",
    "y_point_class_0 = [element[1] for element in points_class_0]\n",
    "x_point_class_1 = [element[0] for element in points_class_1]\n",
    "y_point_class_1 = [element[1] for element in points_class_1]"
   ]
  },
  {
   "cell_type": "code",
   "execution_count": null,
   "metadata": {},
   "outputs": [],
   "source": [
    "import matplotlib.pyplot as plt \n",
    "\n",
    "plt.plot(x,y, 'r')\n",
    "plt.scatter(x_point_class_0, y_point_class_0)\n",
    "plt.scatter(x_point_class_1, y_point_class_1)\n",
    "plt.xlabel(\"x\")\n",
    "plt.ylabel(\"y\")\n",
    "plt.legend([\"Linjär funktion\", \"Label - 0\", \"Label - 1\"], loc=4)\n",
    "plt.show()"
   ]
  }
 ],
 "metadata": {
  "kernelspec": {
   "display_name": ".venv",
   "language": "python",
   "name": "python3"
  },
  "language_info": {
   "codemirror_mode": {
    "name": "ipython",
    "version": 3
   },
   "file_extension": ".py",
   "mimetype": "text/x-python",
   "name": "python",
   "nbconvert_exporter": "python",
   "pygments_lexer": "ipython3",
   "version": "3.12.6"
  }
 },
 "nbformat": 4,
 "nbformat_minor": 2
}
